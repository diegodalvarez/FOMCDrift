{
 "cells": [
  {
   "cell_type": "markdown",
   "id": "43b88c4a-1202-44cf-b5b4-8bdafb6d2433",
   "metadata": {},
   "source": [
    "# The Pre-FOMC Drift and the Secular Decline in Long-Term Interest Rates"
   ]
  },
  {
   "cell_type": "markdown",
   "id": "fc5c021d-a0a2-4402-bf7a-ae13474579ed",
   "metadata": {},
   "source": [
    "Whitepaper [here](https://papers.ssrn.com/sol3/papers.cfm?abstract_id=4764451)"
   ]
  },
  {
   "cell_type": "code",
   "execution_count": null,
   "id": "ed72bba7-26a7-4c59-acc1-ba13e314c0b8",
   "metadata": {},
   "outputs": [],
   "source": [
    "import os\n",
    "import sys\n",
    "import numpy as np\n",
    "import pandas as pd\n",
    "import statsmodels.api as sm\n",
    "import matplotlib.pyplot as plt\n",
    "from matplotlib.ticker import FuncFormatter\n",
    "\n",
    "from FOMCDataPrep import DataPrep"
   ]
  },
  {
   "cell_type": "markdown",
   "id": "49715cb2-5e45-4785-b996-1e14aa6a30f4",
   "metadata": {},
   "source": [
    "Access ```BBGEventCollect``` module"
   ]
  },
  {
   "cell_type": "code",
   "execution_count": null,
   "id": "469dd61a-481d-4baa-8d6d-78cd001a593f",
   "metadata": {},
   "outputs": [],
   "source": [
    "sys.path.append(r\"C:\\Users\\Diego\\Desktop\\app_prod\\BBGEvent\\root\")\n",
    "from BBGEventCollect import BBGCollect"
   ]
  },
  {
   "cell_type": "code",
   "execution_count": null,
   "id": "541ab119-5df3-4960-a5b3-242a7af4bc65",
   "metadata": {},
   "outputs": [],
   "source": [
    "def prep_yields() -> pd.DataFrame: \n",
    "\n",
    "    df_yield = (DataPrep().get_tsy_yields().reset_index().rename(\n",
    "        columns = {\"DATE\": \"Date\"}).\n",
    "        assign(Date = lambda x: pd.to_datetime(x.Date).dt.date).\n",
    "        melt(id_vars = \"Date\").\n",
    "        dropna())\n",
    "    \n",
    "    return df_yield\n",
    "\n",
    "df_yield = prep_yields()"
   ]
  },
  {
   "cell_type": "code",
   "execution_count": null,
   "id": "21726bdd-b560-40e7-b87f-2d56f7dbf114",
   "metadata": {},
   "outputs": [],
   "source": [
    "def get_yield_window(before = -1, after = 1) -> pd.DataFrame:\n",
    "    \n",
    "    df_dates = BBGCollect()._get_days_window(ticker = \"FDTR\", before = before, after = after)\n",
    "\n",
    "    df_combined = pd.DataFrame()\n",
    "    for i, row in df_dates.iterrows():\n",
    "\n",
    "        event_date, start_date, end_date = row\n",
    "        df_tmp = df_yield.query(\"@start_date <= Date <= @end_date\")\n",
    "        df_combined = pd.concat([df_combined, df_tmp])\n",
    "        \n",
    "    return df_combined\n",
    "\n",
    "df_yield_window = get_yield_window()\n",
    "df_ex_before = get_yield_window(before = 0, after = 1)"
   ]
  },
  {
   "cell_type": "code",
   "execution_count": null,
   "id": "d5a6d4dd-ac66-446f-90f5-650e87ac6dea",
   "metadata": {},
   "outputs": [],
   "source": [
    "def get_window_yield(df_yield: pd.DataFrame, df_yield_window: pd.DataFrame, df_ex_before: pd.DataFrame) -> pd.DataFrame: \n",
    "\n",
    "    df_out = pd.DataFrame()\n",
    "    tsys = df_yield_window.variable.drop_duplicates().to_list()\n",
    "\n",
    "    for tsy in tsys:\n",
    "        \n",
    "        df_yield_tmp = df_yield.query(\"variable == @tsy\")\n",
    "\n",
    "        df_yield_window_tmp = (df_yield_window.query(\n",
    "            \"variable == @tsy\").\n",
    "            rename(columns = {\"value\": \"window\"}))\n",
    "\n",
    "        start_date = df_yield_window_tmp.Date.min()\n",
    "        start_yield = df_yield_tmp.query(\"Date == @start_date\").value.iloc[0]\n",
    "\n",
    "        df_tmp = (df_yield_tmp.query(\n",
    "            \"Date >= @start_date\").\n",
    "            merge(right = df_yield_window_tmp, how = \"outer\", on = [\"Date\", \"variable\"]).\n",
    "            sort_values(\"Date\").\n",
    "            assign(\n",
    "                yield_change = lambda x: x.value.diff(),\n",
    "                window_change = lambda x: np.where(x.window == x.window, x.yield_change, 0),\n",
    "                cum_window_change = lambda x: x.window_change.cumsum(),\n",
    "                test = lambda x: start_yield + x.cum_window_change)\n",
    "            [[\"Date\", \"variable\", \"value\", \"test\"]].\n",
    "            rename(columns = {\n",
    "                \"value\": \"raw_yield\",\n",
    "                \"test\": \"three_day\"}).\n",
    "            merge(right = df_ex_before, how = \"left\", on = [\"Date\", \"variable\"]).\n",
    "            assign(\n",
    "                yield_change = lambda x: x.raw_yield.diff(),\n",
    "                window_change = lambda x: np.where(x.value == x.value, x.yield_change, 0),\n",
    "                cum_window_change = lambda x: x.window_change.cumsum(),\n",
    "                test = lambda x: start_yield + x.cum_window_change)\n",
    "            [[\"Date\", \"variable\", \"raw_yield\", \"three_day\", \"test\"]].\n",
    "            rename(columns = {\"test\": \"ex_pre\"}))\n",
    "\n",
    "        df_out = pd.concat([df_out, df_tmp])\n",
    "        \n",
    "    return df_out    \n",
    "    \n",
    "df_hypothetical_yield = get_window_yield(df_yield, df_yield_window, df_ex_before)"
   ]
  },
  {
   "cell_type": "code",
   "execution_count": null,
   "id": "07b64575-734f-4222-b767-b93e8f875edb",
   "metadata": {},
   "outputs": [],
   "source": [
    "def plot_hypothetical_yield(df_hypothetical_yield: pd.DataFrame) -> plt.Figure: \n",
    "    \n",
    "    renamer = {\n",
    "        \"DGS5\": \"5y\",\n",
    "        \"DGS7\": \"7y\",\n",
    "        \"DGS10\": \"10y\",\n",
    "        \"DGS30\": \"30y\"}\n",
    "    \n",
    "    col_renamer = {\n",
    "        \"raw_yield\": \"Treasury Yield\",\n",
    "        \"three_day\": \"±1 FOMC Event\",\n",
    "        \"ex_pre\": \"FOMC Event & Day After\"}\n",
    "\n",
    "    fig, axes = plt.subplots(ncols = 2, nrows = 2, figsize = (20,8))\n",
    "\n",
    "    for ticker, ax in zip(renamer.keys(), axes.flatten()):\n",
    "\n",
    "        df_tmp = (df_hypothetical_yield.query(\n",
    "            \"variable == @ticker\").\n",
    "            rename(columns = {\n",
    "                \"test\": \"FOMC\",\n",
    "                \"value\": \"yield\"}).\n",
    "            drop(columns = [\"variable\"]).\n",
    "            set_index(\"Date\").\n",
    "            rename(columns = col_renamer))\n",
    "\n",
    "        (df_tmp.plot(\n",
    "            ax = ax,\n",
    "            ylabel = \"Yield\",\n",
    "            title = renamer[ticker] + \" Treasury Yield\\nfrom {} to {}\".format(\n",
    "                df_tmp.index.min(),\n",
    "                df_tmp.index.max())))\n",
    "\n",
    "        ax.yaxis.set_major_formatter(FuncFormatter(lambda x, _: f'{x:.0f}%'))\n",
    "\n",
    "\n",
    "    fig.suptitle(\"Treasury Yield vs. Hypothetical Treasury Yield\\n(Using Cumulative Yield 1 day before and after FOMC announcements)\")\n",
    "    plt.tight_layout()\n",
    "    \n",
    "plot_hypothetical_yield(df_hypothetical_yield)"
   ]
  },
  {
   "cell_type": "code",
   "execution_count": null,
   "id": "c3d9a40f-6022-495d-9fdd-64bc39c28b93",
   "metadata": {},
   "outputs": [],
   "source": []
  }
 ],
 "metadata": {
  "kernelspec": {
   "display_name": "Python 3 (ipykernel)",
   "language": "python",
   "name": "python3"
  },
  "language_info": {
   "codemirror_mode": {
    "name": "ipython",
    "version": 3
   },
   "file_extension": ".py",
   "mimetype": "text/x-python",
   "name": "python",
   "nbconvert_exporter": "python",
   "pygments_lexer": "ipython3",
   "version": "3.8.5"
  }
 },
 "nbformat": 4,
 "nbformat_minor": 5
}
