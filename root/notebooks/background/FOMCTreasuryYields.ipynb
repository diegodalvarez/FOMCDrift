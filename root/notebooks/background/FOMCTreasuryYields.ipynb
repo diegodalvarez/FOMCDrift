{
 "cells": [
  {
   "cell_type": "markdown",
   "id": "43b88c4a-1202-44cf-b5b4-8bdafb6d2433",
   "metadata": {},
   "source": [
    "# Treasury Yield Analaysis Around FOMC dates"
   ]
  },
  {
   "cell_type": "markdown",
   "id": "3a442914-e103-4cf0-9f47-d69daf3dca99",
   "metadata": {},
   "source": [
    "Examining Yields based on Yield Changes around FOMC Dates. The goal of this notebook is to corroborate the claims that are made in *The Pre-FOMC Drift and the Secular Decline in Long-Term Interest Rates* Whitepaper [here](https://papers.ssrn.com/sol3/papers.cfm?abstract_id=4764451). In this case the notebook is examining the changes around FOMC days. "
   ]
  },
  {
   "cell_type": "markdown",
   "id": "fc5c021d-a0a2-4402-bf7a-ae13474579ed",
   "metadata": {},
   "source": [
    "## Packages"
   ]
  },
  {
   "cell_type": "code",
   "execution_count": null,
   "id": "ed72bba7-26a7-4c59-acc1-ba13e314c0b8",
   "metadata": {},
   "outputs": [],
   "source": [
    "import os\n",
    "import sys\n",
    "import numpy as np\n",
    "import pandas as pd\n",
    "\n",
    "import matplotlib.pyplot as plt\n",
    "from   matplotlib.ticker import FuncFormatter"
   ]
  },
  {
   "cell_type": "code",
   "execution_count": null,
   "id": "2adc9eb9-d517-4a6d-99fb-2c540bd271ed",
   "metadata": {},
   "outputs": [],
   "source": [
    "sys.path.append(r\"C:\\Users\\Diego\\Desktop\\app_prod\\research\\FOMCDrift\\root\\src\")\n",
    "sys.path.append(r\"/Users/diegoalvarez/Desktop/research/FOMCDrift/root/src\")\n",
    "from EventDrivenSignalGenerator import EventDrivenSignalGenerator"
   ]
  },
  {
   "cell_type": "code",
   "execution_count": null,
   "id": "db297a5e-a624-4931-a00f-7faadd4d5e80",
   "metadata": {},
   "outputs": [],
   "source": [
    "df_yield = EventDrivenSignalGenerator().get_tsy_yields()\n",
    "df_yield_window = EventDrivenSignalGenerator().get_ordered_window(df_yield, before = -1, after = 1)"
   ]
  },
  {
   "cell_type": "markdown",
   "id": "daa436b3-7674-4539-a330-b1339e3caca7",
   "metadata": {},
   "source": [
    "## Plotting Changes in Yields"
   ]
  },
  {
   "cell_type": "code",
   "execution_count": null,
   "id": "0ac6d4ab-6264-4800-8aa8-98b36dd8aea0",
   "metadata": {},
   "outputs": [],
   "source": [
    "def _get_min_date(df: pd.DataFrame) -> pd.DataFrame: return(df.query(\"date == date.min()\"))\n",
    "\n",
    "def get_hypothetical_yields(df_yield_window: pd.DataFrame) -> pd.DataFrame: \n",
    "\n",
    "    df_start = (df_yield_window.drop(\n",
    "        columns = [\"val_diff\", \"day\", \"event\"]).\n",
    "        groupby(\"variable\").\n",
    "        apply(_get_min_date).\n",
    "        reset_index(drop = True).\n",
    "        drop(columns = [\"date\"]).\n",
    "        rename(columns = {\"value\": \"yld\"}))\n",
    "\n",
    "    df_cumsum = (df_yield_window.drop(\n",
    "        columns = [\"value\", \"event\", \"day\"]).\n",
    "        pivot(index = \"date\", columns = \"variable\", values = \"val_diff\").\n",
    "        cumsum().\n",
    "        reset_index().\n",
    "        melt(id_vars = \"date\").\n",
    "        merge(right = df_start, how = \"inner\", on = [\"variable\"]).\n",
    "        assign(hypothetical_yield = lambda x: x.yld + x.value).\n",
    "        drop(columns = [\"value\", \"yld\"]))\n",
    "    \n",
    "    return df_cumsum\n",
    "\n",
    "df_hypothetical = get_hypothetical_yields(df_yield_window)"
   ]
  },
  {
   "cell_type": "code",
   "execution_count": null,
   "id": "f95e3a5b-27c3-4812-93a1-648d9f544a97",
   "metadata": {},
   "outputs": [],
   "source": [
    "def get_post_hypothetical_yield(df_yield_window: pd.DataFrame) -> pd.DataFrame: \n",
    "    \n",
    "    df_start = (df_yield_window.drop(\n",
    "        columns = [\"val_diff\", \"day\", \"event\"]).\n",
    "        groupby(\"variable\").\n",
    "        apply(_get_min_date).\n",
    "        reset_index(drop = True).\n",
    "        drop(columns = [\"date\"]).\n",
    "        rename(columns = {\"value\": \"yld\"}))\n",
    "\n",
    "    df_out = (df_yield_window.query(\n",
    "        \"day != -1\")\n",
    "        [[\"date\", \"variable\", \"val_diff\"]].\n",
    "        pivot(index = \"date\", columns = \"variable\", values = \"val_diff\").\n",
    "        cumsum().\n",
    "        reset_index().\n",
    "        melt(id_vars = \"date\").\n",
    "        merge(right = df_start, how = \"inner\", on = [\"variable\"]).\n",
    "        assign(hypothetical_yield = lambda x: x.value + x.yld).\n",
    "        drop(columns = [\"value\", \"yld\"]))\n",
    "    \n",
    "    return df_out\n",
    "\n",
    "df_post_hypothetical = get_post_hypothetical_yield(df_yield_window)"
   ]
  },
  {
   "cell_type": "code",
   "execution_count": null,
   "id": "65f4967c-75a5-4419-9c7b-9cdb1504b804",
   "metadata": {},
   "outputs": [],
   "source": [
    "def plot_hypothetical_yield(df_post_hypothetical: pd.DataFrame, df_hypothetical: pd.DataFrame, df_yield: pd.DataFrame) -> plt.Figure:    \n",
    "\n",
    "    renamer = {\n",
    "        \"DGS5\": \"5y\",\n",
    "        \"DGS7\": \"7y\",\n",
    "        \"DGS10\": \"10y\",\n",
    "        \"DGS30\": \"30y\"}\n",
    "\n",
    "    fig, axes = plt.subplots(\n",
    "        ncols   = len(renamer.keys()) // 2, \n",
    "        nrows   = len(renamer.keys()) // 2, \n",
    "        figsize = (20,8))\n",
    "\n",
    "    for var, ax in zip(renamer.keys(), axes.flatten()):\n",
    "\n",
    "        df_post = (df_post_hypothetical.query(\n",
    "            \"variable == @var\").\n",
    "            drop(columns = [\"variable\"]).\n",
    "            rename(columns = {\"hypothetical_yield\": \"FOMC Day & Following\"}).\n",
    "            set_index(\"date\"))\n",
    "\n",
    "        df_full = (df_hypothetical.query(\n",
    "            \"variable == @var\").\n",
    "            drop(columns = [\"variable\"]).\n",
    "            rename(columns = {\"hypothetical_yield\": \"±1 FOMC Day\"}).\n",
    "            set_index(\"date\"))\n",
    "\n",
    "        start_date, end_date = df_full.index.min(), df_full.index.max()\n",
    "\n",
    "        df_tsy = (df_yield.query(\n",
    "            \"variable == @var\").\n",
    "            query(\"@start_date <= date <= @end_date\").\n",
    "            set_index(\"date\")\n",
    "            [[\"value\"]].\n",
    "            rename(columns = {\"value\": \"Nominal Yield\"}))\n",
    "\n",
    "        df_tsy.plot(ax = ax)\n",
    "        df_post.plot(ax = ax)\n",
    "        df_full.plot(ax = ax)\n",
    "\n",
    "        ax.set_title(renamer[var] + \" Treasury Yield\")\n",
    "        ax.yaxis.set_major_formatter(FuncFormatter(lambda x, _: f'{x/100:.0%}'))\n",
    "        ax.set_ylabel(\"Yield\")\n",
    "\n",
    "    fig.suptitle(\"Treasury Yield vs. Hypothetical Yields using cumulative yield changes around FOMC Days\\nFrom {} to {}\".format(\n",
    "        df_post_hypothetical.date.min(),\n",
    "        df_post_hypothetical.date.max()))\n",
    "    plt.tight_layout()\n",
    "    \n",
    "plot_hypothetical_yield(df_post_hypothetical, df_hypothetical, df_yield)"
   ]
  },
  {
   "cell_type": "markdown",
   "id": "1d369d50-74dc-4a15-a40b-c3df6221d0ac",
   "metadata": {},
   "source": [
    "## Plotting Changes in yield using specific days around FOMC Announcement"
   ]
  },
  {
   "cell_type": "code",
   "execution_count": null,
   "id": "a96d9996-6cfd-416a-ba1d-717f447aebc5",
   "metadata": {},
   "outputs": [],
   "source": [
    "def _cumulate(df: pd.DataFrame) -> pd.DataFrame: \n",
    "    \n",
    "    return(df.sort_values(\n",
    "        \"date\").\n",
    "        assign(cum_yield = lambda x: x.val_diff.cumsum()))\n",
    "\n",
    "def _get_first_tsy(df: pd.DataFrame) -> pd.DataFrame: return(df.query(\"date == date.min()\"))\n",
    "\n",
    "def get_cumulative_day_changes(df_yield_window: pd.DataFrame) -> pd.DataFrame:\n",
    "\n",
    "    df_cum_day = (df_yield_window.drop(\n",
    "        columns = [\"value\", \"event\"]).\n",
    "        groupby([\"variable\", \"day\"]).\n",
    "        apply(_cumulate).\n",
    "        reset_index(drop = True))\n",
    "    \n",
    "    df_start = (df_yield_window[\n",
    "        [\"date\", \"variable\", \"day\", \"value\"]].\n",
    "        groupby([\"variable\", \"day\"]).\n",
    "        apply(_get_first_tsy).\n",
    "        reset_index(drop = True).\n",
    "        drop(columns = [\"date\"]).\n",
    "        rename(columns = {\"value\": \"start\"}).\n",
    "        merge(right = df_cum_day, how = \"inner\", on = [\"variable\", \"day\"]).\n",
    "        assign(hypothetical_yield = lambda x: x.start + x.cum_yield).\n",
    "        drop(columns = [\"val_diff\", \"cum_yield\"]))\n",
    "    \n",
    "    return df_start\n",
    "\n",
    "df_cum_day = get_cumulative_day_changes(df_yield_window)"
   ]
  },
  {
   "cell_type": "code",
   "execution_count": null,
   "id": "1f502b08-1332-4f29-b84b-7843e102a284",
   "metadata": {},
   "outputs": [],
   "source": [
    "def plot_spef_day_changes(df_cum_day: pd.DataFrame) -> plt.Figure: \n",
    "    \n",
    "    renamer = {\n",
    "        -1: \"Day Before FOMC\",\n",
    "        0 : \"FOMC Day\",\n",
    "        1 : \"Day After FOMC\"}\n",
    "\n",
    "    variables = {\n",
    "        \"DGS1MO\": \"1m\",\n",
    "        \"DGS3MO\": \"3m\",\n",
    "        \"DGS1\"  : \"1y\",\n",
    "        \"DGS2\"  : \"2y\",\n",
    "        \"DGS5\"  : \"5y\",\n",
    "        \"DGS7\"  : \"7y\",\n",
    "        \"DGS10\" : \"10y\",\n",
    "        \"DGS20\" : \"20y\",\n",
    "        \"DGS30\" : \"30y\"}\n",
    "\n",
    "    fig, axes = plt.subplots(\n",
    "        ncols   = len(variables.keys()) // 3,\n",
    "        nrows   = len(variables.keys()) // 3,\n",
    "        figsize = (25,14))\n",
    "\n",
    "    for variable, ax in zip(variables.keys(), axes.flatten()):\n",
    "\n",
    "        (df_cum_day.query(\n",
    "            \"variable == @variable\")\n",
    "            [[\"date\", \"day\", \"hypothetical_yield\"]].\n",
    "            rename(columns = {\"day\": \"\"}).\n",
    "            pivot(index = \"date\", columns = \"\", values = \"hypothetical_yield\").\n",
    "            fillna(method = \"ffill\").\n",
    "            rename(columns = renamer).\n",
    "            plot(\n",
    "                title  = variables[variable] + \" Treasury\",\n",
    "                ax     = ax,\n",
    "                ylabel = \"Yield\"))\n",
    "\n",
    "        ax.yaxis.set_major_formatter(FuncFormatter(lambda x, _: f'{x/100:.0%}'))\n",
    "\n",
    "    fig.suptitle(\"Hypothetical Yields based on Cumulative Yield Changes\")\n",
    "    plt.tight_layout()\n",
    "    \n",
    "plot_spef_day_changes(df_cum_day)"
   ]
  }
 ],
 "metadata": {
  "kernelspec": {
   "display_name": "Python 3 (ipykernel)",
   "language": "python",
   "name": "python3"
  },
  "language_info": {
   "codemirror_mode": {
    "name": "ipython",
    "version": 3
   },
   "file_extension": ".py",
   "mimetype": "text/x-python",
   "name": "python",
   "nbconvert_exporter": "python",
   "pygments_lexer": "ipython3",
   "version": "3.8.5"
  }
 },
 "nbformat": 4,
 "nbformat_minor": 5
}
